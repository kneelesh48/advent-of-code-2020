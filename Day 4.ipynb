{
 "cells": [
  {
   "cell_type": "code",
   "execution_count": 1,
   "metadata": {},
   "outputs": [],
   "source": [
    "import re\n",
    "\n",
    "with open('day_4_input.txt') as f:\n",
    "    r=f.read()\n",
    "r=r.split('\\n\\n')"
   ]
  },
  {
   "cell_type": "code",
   "execution_count": 3,
   "metadata": {
    "scrolled": true
   },
   "outputs": [
    {
     "name": "stdout",
     "output_type": "stream",
     "text": [
      "206 123\n"
     ]
    }
   ],
   "source": [
    "present=0\n",
    "valid=0\n",
    "\n",
    "def checker(present_fields_dict):\n",
    "    required_fields={'byr','iyr','eyr','hgt','hcl','ecl','pid'}\n",
    "    present_fields=set(present_fields_dict.keys())\n",
    "    return required_fields.issubset(present_fields)\n",
    "\n",
    "def validator(present_fields_dict):\n",
    "    byr,iyr,eyr,hgt,hcl,ecl,pid=False,False,False,False,False,False,False\n",
    "    byr=1920<=int(present_fields_dict['byr'])<=2002\n",
    "    iyr=2010<=int(present_fields_dict['iyr'])<=2020\n",
    "    eyr=2020<=int(present_fields_dict['eyr'])<=2030\n",
    "\n",
    "    if 'cm' in present_fields_dict['hgt']:\n",
    "        hgt=150<+int(present_fields_dict['hgt'].split('cm')[0])<=193\n",
    "    elif 'in' in present_fields_dict['hgt']:\n",
    "        hgt=59<=int(present_fields_dict['hgt'].split('in')[0])<=76\n",
    "\n",
    "    hcl=bool(re.search(r'#[0-9a-f]{6}',present_fields_dict['hcl']))\n",
    "    ecl=present_fields_dict['ecl'] in ['amb','blu','brn','gry','grn','hzl','oth']\n",
    "    pid= len(present_fields_dict['pid'])==9 and bool(re.search(r'\\d{9}',present_fields_dict['pid']))\n",
    "#     print(present_fields_dict)\n",
    "#     print(byr,iyr,eyr,hgt,hcl,ecl,pid)\n",
    "    valid=byr and iyr and eyr and hgt and hcl and ecl and pid\n",
    "    return valid\n",
    "\n",
    "for line in r:\n",
    "    line=line.replace('\\n', ' ')\n",
    "    present_fields_dict={x.split(':')[0]:x.split(':')[1] for x in line.split(' ')}\n",
    "    if checker(present_fields_dict):\n",
    "        present+=1\n",
    "        if validator(present_fields_dict):\n",
    "            valid+=1\n",
    "print(present,valid)"
   ]
  },
  {
   "cell_type": "code",
   "execution_count": null,
   "metadata": {},
   "outputs": [],
   "source": []
  }
 ],
 "metadata": {
  "kernelspec": {
   "display_name": "Python 3",
   "language": "python",
   "name": "python3"
  },
  "language_info": {
   "codemirror_mode": {
    "name": "ipython",
    "version": 3
   },
   "file_extension": ".py",
   "mimetype": "text/x-python",
   "name": "python",
   "nbconvert_exporter": "python",
   "pygments_lexer": "ipython3",
   "version": "3.8.5"
  }
 },
 "nbformat": 4,
 "nbformat_minor": 4
}
