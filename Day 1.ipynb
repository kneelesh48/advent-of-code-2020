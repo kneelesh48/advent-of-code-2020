{
 "cells": [
  {
   "cell_type": "code",
   "execution_count": 1,
   "metadata": {},
   "outputs": [],
   "source": [
    "with open('day_1_input.txt') as f:\n",
    "    r=f.read()\n",
    "r=r.split('\\n')\n",
    "input_list=[int(x) for x in r]"
   ]
  },
  {
   "cell_type": "code",
   "execution_count": null,
   "metadata": {},
   "outputs": [],
   "source": [
    "for n1 in input_list:\n",
    "    n2=2020-n1\n",
    "    if n2 in input_list:\n",
    "        print(n1,n2)\n",
    "        break\n",
    "print(n1*n2)"
   ]
  },
  {
   "cell_type": "code",
   "execution_count": null,
   "metadata": {},
   "outputs": [],
   "source": [
    "for n1 in input_list:\n",
    "    n2_sum=2020-n1\n",
    "    for n2 in input_list:\n",
    "        n3=n2_sum-n2\n",
    "        if n3<0: continue\n",
    "        if n3 in input_list:\n",
    "            print(n1,n2,n3)\n",
    "            break\n",
    "    if n3 in input_list:\n",
    "        break\n",
    "print(n1*n2*n3)"
   ]
  }
 ],
 "metadata": {
  "kernelspec": {
   "display_name": "Python 3",
   "language": "python",
   "name": "python3"
  },
  "language_info": {
   "codemirror_mode": {
    "name": "ipython",
    "version": 3
   },
   "file_extension": ".py",
   "mimetype": "text/x-python",
   "name": "python",
   "nbconvert_exporter": "python",
   "pygments_lexer": "ipython3",
   "version": "3.8.5-final"
  }
 },
 "nbformat": 4,
 "nbformat_minor": 4
}