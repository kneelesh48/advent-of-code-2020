{
 "cells": [
  {
   "cell_type": "code",
   "execution_count": 100,
   "metadata": {},
   "outputs": [],
   "source": [
    "import math\n",
    "\n",
    "with open('day_5_input.txt') as f:\n",
    "    r=f.read()\n",
    "r=r.split('\\n')\n",
    "\n",
    "def binary_div(start,end,d):\n",
    "    middle=math.floor((end-start)/2)+start\n",
    "    if d in 'FL':\n",
    "        return start,middle\n",
    "    if d in 'BR':\n",
    "        return middle+1,end\n",
    "    \n",
    "def find_middle(start,end,d_list):\n",
    "    for d in d_list:\n",
    "        start,end=binary_div(start,end,d)\n",
    "        if start==end:\n",
    "            return start"
   ]
  },
  {
   "cell_type": "code",
   "execution_count": 101,
   "metadata": {
    "scrolled": true
   },
   "outputs": [
    {
     "data": {
      "text/plain": [
       "818"
      ]
     },
     "execution_count": 101,
     "metadata": {},
     "output_type": "execute_result"
    }
   ],
   "source": [
    "seat_id_list=[]\n",
    "for line in r:\n",
    "    row=find_middle(0,127,list(line)[:7])\n",
    "    column=find_middle(0,7,list(line)[7:])\n",
    "    seat_id=row*8+column\n",
    "    seat_id_list.append(seat_id)\n",
    "max(seat_id_list)"
   ]
  },
  {
   "cell_type": "code",
   "execution_count": 104,
   "metadata": {},
   "outputs": [
    {
     "name": "stdout",
     "output_type": "stream",
     "text": [
      "559\n"
     ]
    }
   ],
   "source": [
    "for i in range(min(seat_id_list),max(seat_id_list)):\n",
    "    if i not in seat_id_list:\n",
    "        print(i)"
   ]
  },
  {
   "cell_type": "code",
   "execution_count": 91,
   "metadata": {},
   "outputs": [
    {
     "name": "stdout",
     "output_type": "stream",
     "text": [
      "Highest: 818\tYour seat: 559\n"
     ]
    }
   ],
   "source": [
    "seats = [(int(\"\".join(map(lambda x: \"1\" if x in \"BR\" else \"0\", s.rstrip())), 2)) for s in open(\"day_5_input.txt\")]\n",
    "print(f\"Highest: {max(seats)}\\tYour seat: {next(filter(lambda x: x not in seats, range(min(seats), max(seats))))}\")"
   ]
  }
 ],
 "metadata": {
  "kernelspec": {
   "display_name": "Python 3",
   "language": "python",
   "name": "python3"
  },
  "language_info": {
   "codemirror_mode": {
    "name": "ipython",
    "version": 3
   },
   "file_extension": ".py",
   "mimetype": "text/x-python",
   "name": "python",
   "nbconvert_exporter": "python",
   "pygments_lexer": "ipython3",
   "version": "3.8.5"
  }
 },
 "nbformat": 4,
 "nbformat_minor": 4
}
