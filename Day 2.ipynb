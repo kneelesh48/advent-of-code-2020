{
 "cells": [
  {
   "cell_type": "code",
   "execution_count": 1,
   "metadata": {},
   "outputs": [],
   "source": [
    "with open('day_2_input_1.txt','r') as f:\n",
    "    r=f.read()\n",
    "r=r.split('\\n')"
   ]
  },
  {
   "cell_type": "code",
   "execution_count": 39,
   "metadata": {
    "scrolled": false
   },
   "outputs": [
    {
     "name": "stdout",
     "output_type": "stream",
     "text": [
      "456\n"
     ]
    }
   ],
   "source": [
    "valid_password_count=0\n",
    "for line in r:\n",
    "    policy=line.split(':')[0]\n",
    "    password=line.split(':')[1].strip()\n",
    "\n",
    "    range_=policy[:-2]\n",
    "    letter=policy[-1]\n",
    "\n",
    "    n1=int(range_.split('-')[0])\n",
    "    n2=int(range_.split('-')[1])\n",
    "\n",
    "    count=password.count(letter)\n",
    "    if n1<=count<=n2:\n",
    "        valid_password_count+=1\n",
    "print(valid_password_count)"
   ]
  },
  {
   "cell_type": "code",
   "execution_count": 48,
   "metadata": {},
   "outputs": [
    {
     "name": "stdout",
     "output_type": "stream",
     "text": [
      "308\n"
     ]
    }
   ],
   "source": [
    "valid_password_count=0\n",
    "for line in r:\n",
    "    policy=line.split(':')[0]\n",
    "    password=line.split(':')[1].strip()\n",
    "\n",
    "    range_=policy[:-2]\n",
    "    letter=policy[-1]\n",
    "\n",
    "    n1=int(range_.split('-')[0])\n",
    "    n2=int(range_.split('-')[1])\n",
    "    \n",
    "    if int(password[n1-1]==letter)+int(password[n2-1]==letter)==1:\n",
    "        valid_password_count+=1\n",
    "print(valid_password_count)"
   ]
  }
 ],
 "metadata": {
  "kernelspec": {
   "display_name": "Python 3",
   "language": "python",
   "name": "python3"
  },
  "language_info": {
   "codemirror_mode": {
    "name": "ipython",
    "version": 3
   },
   "file_extension": ".py",
   "mimetype": "text/x-python",
   "name": "python",
   "nbconvert_exporter": "python",
   "pygments_lexer": "ipython3",
   "version": "3.8.5"
  }
 },
 "nbformat": 4,
 "nbformat_minor": 4
}
